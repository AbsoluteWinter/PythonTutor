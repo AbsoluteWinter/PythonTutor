{
 "cells": [
  {
   "cell_type": "markdown",
   "metadata": {
    "id": "QD53BbyHS_H_"
   },
   "source": [
    "# **HOMEWORK 01:**"
   ]
  },
  {
   "cell_type": "markdown",
   "metadata": {
    "id": "U29Lw1lWUEfZ"
   },
   "source": [
    "## **Bài 01:**"
   ]
  },
  {
   "cell_type": "markdown",
   "metadata": {
    "id": "w6rlbUQ0VMHY"
   },
   "source": [
    "Input độ dài 3 cạnh, kiểm tra xem độ dài các cạnh có đủ điều kiện hợp lệ tạo thành một tam giác hay không. Nếu có, kiểm tra xem đó có phải là tam giác vuông/cân/đều hay không.\n",
    "\n",
    "**Kết quả mong đợi:**\n",
    "- a = 3, b = 4, c = 5 => Tam giác vuông\n",
    "- a = 3, b = 3, c = 3 => Tam giác đều\n",
    "- a = 3, b = 3, c = 5 => Tam giác cân\n",
    "- a = 4, b = 5, c = 6 => Tam giác thường\n",
    "- a = 1, b = 2, c = 1 => Không phải là một tam giác\n",
    "- a = 1, b = 2, c = -1 => Độ dài cạnh không hợp lệ"
   ]
  },
  {
   "cell_type": "code",
   "execution_count": 22,
   "metadata": {
    "colab": {
     "base_uri": "https://localhost:8080/"
    },
    "executionInfo": {
     "elapsed": 22553,
     "status": "ok",
     "timestamp": 1640188725224,
     "user": {
      "displayName": "Nam",
      "photoUrl": "https://lh3.googleusercontent.com/a-/AOh14Gj7R0GOLCpZa8FkKLPYwZwAHbAciQ0gOAQdCqK_Qw=s64",
      "userId": "09985101743165478884"
     },
     "user_tz": -420
    },
    "id": "iW1znieqTZ-i",
    "outputId": "d8ec4561-ad58-4b81-c723-5b475fb84a68"
   },
   "outputs": [],
   "source": []
  },
  {
   "cell_type": "markdown",
   "metadata": {
    "id": "rj8K3Y_mUrBJ"
   },
   "source": [
    "## **Bài 02:**"
   ]
  },
  {
   "cell_type": "markdown",
   "metadata": {
    "id": "WLuNIWe0VTXg"
   },
   "source": [
    "Nhập ba số `a`, `b`, `c`. Giải và biện luận tìm nghiệm cho phương trình $ax^2+bx+c=0$\n",
    "\n",
    "**Kết quả mong đợi:**\n",
    "- a = 1, b = -5, c = 6 (2 nghiệm)\n",
    "- a = 1, b = -2, c = 1 (1 nghiệm)\n",
    "- a = 1, b = 2, c = 3 (vô nghiệm)\n",
    "- a = 0, b = -2, c = 1 (không phải pt bậc 2)"
   ]
  },
  {
   "cell_type": "code",
   "execution_count": 27,
   "metadata": {
    "id": "GrX59rs6U3rU"
   },
   "outputs": [],
   "source": []
  },
  {
   "cell_type": "markdown",
   "metadata": {
    "id": "A1sjjB0yUrdc"
   },
   "source": [
    "## **Bài 03:**"
   ]
  },
  {
   "cell_type": "markdown",
   "metadata": {
    "id": "G5tuPqp1kHOW"
   },
   "source": [
    "Nhập vào 1 tháng in ra số ngày trong tháng (input: 1 -> output: 31). Nếu là tháng 2, thì cho nhập thêm năm, nếu là năm nhuận thì in ra 29 ngày, năm không nhuận in ra 28 ngày."
   ]
  },
  {
   "cell_type": "code",
   "execution_count": 30,
   "metadata": {
    "colab": {
     "base_uri": "https://localhost:8080/"
    },
    "executionInfo": {
     "elapsed": 2436,
     "status": "ok",
     "timestamp": 1640190855748,
     "user": {
      "displayName": "Nam",
      "photoUrl": "https://lh3.googleusercontent.com/a-/AOh14Gj7R0GOLCpZa8FkKLPYwZwAHbAciQ0gOAQdCqK_Qw=s64",
      "userId": "09985101743165478884"
     },
     "user_tz": -420
    },
    "id": "SbCandSjU3NQ",
    "outputId": "ebcdc725-70dc-4d99-a2ed-82c30da18725"
   },
   "outputs": [],
   "source": []
  },
  {
   "cell_type": "markdown",
   "metadata": {
    "id": "vK7orb5BUr0v"
   },
   "source": [
    "## **Bài 04:**"
   ]
  },
  {
   "cell_type": "markdown",
   "metadata": {
    "id": "2MsRigb5kOBF"
   },
   "source": [
    "Input 1 kí tự kiểm tra xem là chữ thường (a-z) hay chữ hoa (A-Z) là số (0-9) hay là kí tự đặc biệt (còn lại)"
   ]
  },
  {
   "cell_type": "code",
   "execution_count": null,
   "metadata": {
    "colab": {
     "base_uri": "https://localhost:8080/"
    },
    "executionInfo": {
     "elapsed": 320,
     "status": "ok",
     "timestamp": 1640193604098,
     "user": {
      "displayName": "Nam",
      "photoUrl": "https://lh3.googleusercontent.com/a-/AOh14Gj7R0GOLCpZa8FkKLPYwZwAHbAciQ0gOAQdCqK_Qw=s64",
      "userId": "09985101743165478884"
     },
     "user_tz": -420
    },
    "id": "Ku12mOZS80_-",
    "outputId": "6ff631bc-dda0-494f-d19b-0495ff1b8ddd"
   },
   "outputs": [],
   "source": []
  },
  {
   "cell_type": "markdown",
   "metadata": {
    "id": "BoBRfzoIU05G"
   },
   "source": [
    "## **Bài 05:**"
   ]
  },
  {
   "cell_type": "markdown",
   "metadata": {
    "id": "OKgq8OvSkQVF"
   },
   "source": [
    "Input số điện output giá tiền, biết rằng:\n",
    "- 50 số đầu tiên có giá 3.000/1 số\n",
    "- 100 số tiếp theo có giá 4.000/1 số\n",
    "- 100 số tiếp theo 5.000/1 số\n",
    "- Từ 250 số trở đi thì giá là 10.000/1 số"
   ]
  },
  {
   "cell_type": "code",
   "execution_count": 40,
   "metadata": {
    "colab": {
     "base_uri": "https://localhost:8080/"
    },
    "executionInfo": {
     "elapsed": 6147,
     "status": "ok",
     "timestamp": 1640194875893,
     "user": {
      "displayName": "Nam",
      "photoUrl": "https://lh3.googleusercontent.com/a-/AOh14Gj7R0GOLCpZa8FkKLPYwZwAHbAciQ0gOAQdCqK_Qw=s64",
      "userId": "09985101743165478884"
     },
     "user_tz": -420
    },
    "id": "VtQ4cTbt44yz",
    "outputId": "8dfe875d-68c4-4b60-bf9c-e9bc68cb3564"
   },
   "outputs": [],
   "source": []
  }
 ],
 "metadata": {
  "colab": {
   "collapsed_sections": [
    "U29Lw1lWUEfZ",
    "rj8K3Y_mUrBJ",
    "A1sjjB0yUrdc",
    "vK7orb5BUr0v",
    "BoBRfzoIU05G"
   ],
   "name": "HoangTienNam_Homework 1.ipynb",
   "provenance": []
  },
  "kernelspec": {
   "display_name": "venv",
   "language": "python",
   "name": "python3"
  },
  "language_info": {
   "codemirror_mode": {
    "name": "ipython",
    "version": 3
   },
   "file_extension": ".py",
   "mimetype": "text/x-python",
   "name": "python",
   "nbconvert_exporter": "python",
   "pygments_lexer": "ipython3",
   "version": "3.11.6"
  }
 },
 "nbformat": 4,
 "nbformat_minor": 0
}
