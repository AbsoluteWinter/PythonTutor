{
 "cells": [
  {
   "cell_type": "markdown",
   "metadata": {
    "id": "6kmfLdDjX6d0"
   },
   "source": [
    "# **HOMEWORK 02:**"
   ]
  },
  {
   "cell_type": "markdown",
   "metadata": {
    "id": "V4mu2I39YEhR"
   },
   "source": [
    "## **Exercise 01:**"
   ]
  },
  {
   "cell_type": "markdown",
   "metadata": {
    "id": "ffXsRQPpoHwu"
   },
   "source": [
    "Cho ma trận biểu diễn như sau:\n",
    "$A=\\begin{pmatrix}\n",
    "1 & 2 & 3\\\\\n",
    "5 & 5 & 7\n",
    "\\end{pmatrix}$\n",
    "\n",
    "1.   In ra số hàng và số cột ma trận (dùng len).\n",
    "2.   Tính tổng các phần tử trong ma trận.\n",
    "3.   Tính tổng các hàng trong ma trận.\n",
    "4.   Tính tổng các cột trong ma trận."
   ]
  },
  {
   "cell_type": "code",
   "execution_count": null,
   "metadata": {
    "id": "9PGI4oe3wf06"
   },
   "outputs": [],
   "source": []
  },
  {
   "cell_type": "markdown",
   "metadata": {
    "id": "WzfAOMZXDH_B"
   },
   "source": [
    "### 1. In ra số hàng và số cột ma trận"
   ]
  },
  {
   "cell_type": "code",
   "execution_count": null,
   "metadata": {
    "colab": {
     "base_uri": "https://localhost:8080/"
    },
    "executionInfo": {
     "elapsed": 5,
     "status": "ok",
     "timestamp": 1640857542038,
     "user": {
      "displayName": "Nam",
      "photoUrl": "https://lh3.googleusercontent.com/a-/AOh14Gj7R0GOLCpZa8FkKLPYwZwAHbAciQ0gOAQdCqK_Qw=s64",
      "userId": "09985101743165478884"
     },
     "user_tz": -420
    },
    "id": "ZCwWKRWTox0W",
    "outputId": "e84e8227-e0cf-4acd-c943-d1d696f01278"
   },
   "outputs": [],
   "source": []
  },
  {
   "cell_type": "markdown",
   "metadata": {
    "id": "dRhsouhkCnkh"
   },
   "source": [
    "### 2. Tính tổng các phần tử trong ma trận"
   ]
  },
  {
   "cell_type": "code",
   "execution_count": null,
   "metadata": {
    "colab": {
     "base_uri": "https://localhost:8080/"
    },
    "executionInfo": {
     "elapsed": 383,
     "status": "ok",
     "timestamp": 1640857177555,
     "user": {
      "displayName": "Nam",
      "photoUrl": "https://lh3.googleusercontent.com/a-/AOh14Gj7R0GOLCpZa8FkKLPYwZwAHbAciQ0gOAQdCqK_Qw=s64",
      "userId": "09985101743165478884"
     },
     "user_tz": -420
    },
    "id": "HoU4yJjLxWR8",
    "outputId": "7d93ff3c-0815-4eb3-aca2-0b2fcf847623"
   },
   "outputs": [],
   "source": []
  },
  {
   "cell_type": "markdown",
   "metadata": {
    "id": "N-4fzR7jDRL7"
   },
   "source": [
    "### 3. Tính tổng các hàng trong ma trận"
   ]
  },
  {
   "cell_type": "code",
   "execution_count": null,
   "metadata": {
    "colab": {
     "base_uri": "https://localhost:8080/"
    },
    "executionInfo": {
     "elapsed": 373,
     "status": "ok",
     "timestamp": 1640857682263,
     "user": {
      "displayName": "Nam",
      "photoUrl": "https://lh3.googleusercontent.com/a-/AOh14Gj7R0GOLCpZa8FkKLPYwZwAHbAciQ0gOAQdCqK_Qw=s64",
      "userId": "09985101743165478884"
     },
     "user_tz": -420
    },
    "id": "jDd-jcV7DX9C",
    "outputId": "51fedbd9-900d-403d-b351-49b45135d3a1"
   },
   "outputs": [],
   "source": []
  },
  {
   "cell_type": "markdown",
   "metadata": {
    "id": "yzI9n9kqDReF"
   },
   "source": [
    "### 4. Tính tổng các cột trong ma trận"
   ]
  },
  {
   "cell_type": "code",
   "execution_count": null,
   "metadata": {
    "colab": {
     "base_uri": "https://localhost:8080/"
    },
    "executionInfo": {
     "elapsed": 568,
     "status": "ok",
     "timestamp": 1640857808422,
     "user": {
      "displayName": "Nam",
      "photoUrl": "https://lh3.googleusercontent.com/a-/AOh14Gj7R0GOLCpZa8FkKLPYwZwAHbAciQ0gOAQdCqK_Qw=s64",
      "userId": "09985101743165478884"
     },
     "user_tz": -420
    },
    "id": "ogYa4AdWDXqS",
    "outputId": "e573f536-2a52-4b25-ea3c-b0222ea6c1f5"
   },
   "outputs": [],
   "source": []
  },
  {
   "cell_type": "markdown",
   "metadata": {
    "id": "lO_PgYOOotTS"
   },
   "source": [
    "## **Exercise 02:**"
   ]
  },
  {
   "cell_type": "markdown",
   "metadata": {
    "id": "vyvZS4SLoxS-"
   },
   "source": [
    "“Vừa gà vừa chó<br>\n",
    "Bó lại cho tròn<br>\n",
    "Ba mươi sáu (36) con<br>\n",
    "Một trăm (100) chân chẵn<br>\n",
    "Hỏi mấy gà, mấy chó?”<br>\n",
    "\n",
    "Giải bài toán trên dùng vòng lặp."
   ]
  },
  {
   "cell_type": "code",
   "execution_count": null,
   "metadata": {
    "colab": {
     "base_uri": "https://localhost:8080/"
    },
    "executionInfo": {
     "elapsed": 348,
     "status": "ok",
     "timestamp": 1640803607223,
     "user": {
      "displayName": "Nam",
      "photoUrl": "https://lh3.googleusercontent.com/a-/AOh14Gj7R0GOLCpZa8FkKLPYwZwAHbAciQ0gOAQdCqK_Qw=s64",
      "userId": "09985101743165478884"
     },
     "user_tz": -420
    },
    "id": "cPtkPpip3Xrt",
    "outputId": "c4abeba7-6d72-403a-b5e9-59b7d3244e2f"
   },
   "outputs": [],
   "source": []
  },
  {
   "cell_type": "markdown",
   "metadata": {
    "id": "wUKfMrT3o68C"
   },
   "source": [
    "## **Exercise 03:**"
   ]
  },
  {
   "cell_type": "markdown",
   "metadata": {
    "id": "Npdr26nUpCcp"
   },
   "source": [
    "Nhập vào n > 0. Tính S = $\\frac{1}{2}+\\frac{2}{3}+\\frac{3}{4}+...+\\frac{n}{(n+1)}$"
   ]
  },
  {
   "cell_type": "code",
   "execution_count": null,
   "metadata": {
    "colab": {
     "base_uri": "https://localhost:8080/"
    },
    "executionInfo": {
     "elapsed": 12739,
     "status": "ok",
     "timestamp": 1640861157249,
     "user": {
      "displayName": "Nam",
      "photoUrl": "https://lh3.googleusercontent.com/a-/AOh14Gj7R0GOLCpZa8FkKLPYwZwAHbAciQ0gOAQdCqK_Qw=s64",
      "userId": "09985101743165478884"
     },
     "user_tz": -420
    },
    "id": "auP9iSwtpG1O",
    "outputId": "9e6bc0af-09b1-4416-8300-1dac39326c58"
   },
   "outputs": [],
   "source": []
  },
  {
   "cell_type": "markdown",
   "metadata": {
    "id": "6RqUkBPbpXcl"
   },
   "source": [
    "## **Exercise 04:**"
   ]
  },
  {
   "cell_type": "markdown",
   "metadata": {
    "id": "KZjtFqvbpgQy"
   },
   "source": [
    "Nhập vào 1 số, kiểm tra xem số đó có phải số nguyên tố không."
   ]
  },
  {
   "cell_type": "markdown",
   "metadata": {
    "id": "pClJYWEVrpEx"
   },
   "source": [
    "* **Số nguyên tố** là số tự nhiên lớn hơn 1 không phải là tích của hai số tự nhiên nhỏ hơn.<br>Nói cách khác, số nguyên tố là những số chỉ có đúng hai ước số là 1 và chính nó.\n",
    "* Số nguyên dương *n* lớn hơn 1 là **hợp số** nếu và chỉ khi *n* có ước số *d* thỏa mãn $2 \\leq d \\leq \\sqrt{n}$"
   ]
  },
  {
   "cell_type": "code",
   "execution_count": null,
   "metadata": {
    "id": "eiZK8IOg8ADh"
   },
   "outputs": [],
   "source": []
  },
  {
   "cell_type": "markdown",
   "metadata": {
    "id": "zgYddi0mpbNU"
   },
   "source": [
    "## **Exercise 05:**"
   ]
  },
  {
   "cell_type": "markdown",
   "metadata": {
    "id": "AOpW42GEpfdV"
   },
   "source": [
    "Số hoàn hảo là số có tổng các ước bằng chính nó, ví dụ: 6 = 1 + 2 + 3. In ra các số hoàn hảo lớn hơn 2 và nhỏ hơn 1000."
   ]
  },
  {
   "cell_type": "code",
   "execution_count": null,
   "metadata": {
    "colab": {
     "base_uri": "https://localhost:8080/"
    },
    "executionInfo": {
     "elapsed": 370,
     "status": "ok",
     "timestamp": 1640861316967,
     "user": {
      "displayName": "Nam",
      "photoUrl": "https://lh3.googleusercontent.com/a-/AOh14Gj7R0GOLCpZa8FkKLPYwZwAHbAciQ0gOAQdCqK_Qw=s64",
      "userId": "09985101743165478884"
     },
     "user_tz": -420
    },
    "id": "BKT8igPwpfxa",
    "outputId": "235e08fc-2b51-4d8c-f569-9cc9d3cf0c52"
   },
   "outputs": [],
   "source": []
  },
  {
   "cell_type": "markdown",
   "metadata": {
    "id": "tY-MxOeCpchJ"
   },
   "source": [
    "## **Exercise 06:**"
   ]
  },
  {
   "cell_type": "markdown",
   "metadata": {
    "id": "olLrbxfkpefh"
   },
   "source": [
    "Implement thuật toán selection sort."
   ]
  },
  {
   "cell_type": "markdown",
   "metadata": {
    "id": "Wr6R6jLZz65x"
   },
   "source": [
    "**Ảnh minh họa thuật toán selection sort:**<br>\n",
    "![](https://miro.medium.com/max/1400/1*5WXRN62ddiM_Gcf4GDdCZg.gif)"
   ]
  },
  {
   "cell_type": "code",
   "execution_count": null,
   "metadata": {
    "colab": {
     "base_uri": "https://localhost:8080/"
    },
    "executionInfo": {
     "elapsed": 2,
     "status": "ok",
     "timestamp": 1640790087696,
     "user": {
      "displayName": "Nam",
      "photoUrl": "https://lh3.googleusercontent.com/a-/AOh14Gj7R0GOLCpZa8FkKLPYwZwAHbAciQ0gOAQdCqK_Qw=s64",
      "userId": "09985101743165478884"
     },
     "user_tz": -420
    },
    "id": "o3ChAYiBqBPg",
    "outputId": "c6b7393f-1da0-4b26-8028-af63e4df7c35"
   },
   "outputs": [],
   "source": []
  }
 ],
 "metadata": {
  "colab": {
   "authorship_tag": "ABX9TyNhnG1mYoU/348Ms4BfOLPd",
   "collapsed_sections": [],
   "name": "HoangTienNam_Homework2.ipynb",
   "provenance": []
  },
  "kernelspec": {
   "display_name": "venv",
   "language": "python",
   "name": "python3"
  },
  "language_info": {
   "codemirror_mode": {
    "name": "ipython",
    "version": 3
   },
   "file_extension": ".py",
   "mimetype": "text/x-python",
   "name": "python",
   "nbconvert_exporter": "python",
   "pygments_lexer": "ipython3",
   "version": "3.11.6"
  }
 },
 "nbformat": 4,
 "nbformat_minor": 0
}
