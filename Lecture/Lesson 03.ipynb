{
 "cells": [
  {
   "cell_type": "markdown",
   "metadata": {},
   "source": [
    "# **Bài 03:**"
   ]
  },
  {
   "cell_type": "markdown",
   "metadata": {},
   "source": [
    "## Python collection:"
   ]
  },
  {
   "cell_type": "markdown",
   "metadata": {},
   "source": [
    "Tổng quát chung về python collection:\n",
    "- Có 4 loại là `list`, `tuple`, `set`, `dict`\n",
    "- `list` là loại collection theo thứ tự, thay đổi giá trị phần tử được, và có thể chứa giá trị trùng lặp\n",
    "- `tuple` là loại collection theo thứ tự, không thay đổi giá trị phần tử được, và có thể chứa giá trị trùng lặp\n",
    "- `set` là loại collection không theo thứ tự, thay đổi được giá trị phần tử, và không thể chứa giá trị trùng lặp\n",
    "- `dict` là loại collection không theo thứ tự, thay đổi được giá trị phần tử, có chỉ mục (indexed), và không thể chứa giá trị trùng lặp"
   ]
  },
  {
   "cell_type": "markdown",
   "metadata": {},
   "source": [
    "## Python collection: `list` (tiếp)"
   ]
  },
  {
   "cell_type": "markdown",
   "metadata": {},
   "source": [
    "Cấu trúc: `[<item1>, <item2>, ...]`\n",
    "\n",
    "VD: `a = [1, 2, \"a\"]`"
   ]
  },
  {
   "cell_type": "code",
   "execution_count": null,
   "metadata": {},
   "outputs": [],
   "source": [
    "# Gán giá trị khác cho phần tử\n",
    "fruits = [\"apple\", \"banana\", \"mango\"]\n",
    "print(fruits)\n",
    "\n",
    "# Đổi banana thành orange\n",
    "fruits[1] = \"orange\"\n",
    "print(fruits)"
   ]
  },
  {
   "cell_type": "markdown",
   "metadata": {},
   "source": [
    "### Cắt `list`\n",
    "\n",
    "Cắt theo cấu trúc: `list[start:end]` (`tên_list[số thứ tự bắt đầu:số thứ tự kết thúc]`)\n",
    "\n",
    "Theo mặc định thì `start` = 0, `end` = len(list)"
   ]
  },
  {
   "cell_type": "code",
   "execution_count": null,
   "metadata": {},
   "outputs": [],
   "source": [
    "# Thứ tự:\n",
    "#      0, 1, 2, 3, 4, 5,  6\n",
    "num = [1, 3, 5, 7, 9, 11, 13]\n",
    "\n",
    "print(num[1:3])  # Lấy phần tử thứ 2 và 3\n",
    "print(num[:3])  # Lấy phần tử từ đầu đến 3\n",
    "print(num[2:])  # Lấy từ phần tử thứ 3 đến hết\n",
    "print(num[1:-1])  # Lấy phần tử từ 2 đến 6"
   ]
  },
  {
   "cell_type": "markdown",
   "metadata": {},
   "source": [
    "### list comprehension\n",
    "\n",
    "Python dùng cú pháp này để viết gọn hơn"
   ]
  },
  {
   "cell_type": "code",
   "execution_count": null,
   "metadata": {},
   "outputs": [],
   "source": [
    "# Không dùng list comprehension\n",
    "num = [1, 2, 3, 4, 5]\n",
    "dob = []\n",
    "for x in num:\n",
    "    dob.append(x * 2)  # Nhân đôi giá trị của từng phần tử\n",
    "print(dob)"
   ]
  },
  {
   "cell_type": "code",
   "execution_count": null,
   "metadata": {},
   "outputs": [],
   "source": [
    "# Dùng list comprehension\n",
    "num = [1, 2, 3, 4, 5]\n",
    "dob = [x * 2 for x in num]\n",
    "print(dob)"
   ]
  },
  {
   "cell_type": "markdown",
   "metadata": {},
   "source": [
    "### Cách kiểm tra phần tử có trong `list` không"
   ]
  },
  {
   "cell_type": "code",
   "execution_count": null,
   "metadata": {},
   "outputs": [],
   "source": [
    "fruits = [\"apple\", \"banana\", \"mango\"]\n",
    "if \"orange\" in fruits:\n",
    "    print(\"Yes\")\n",
    "else:\n",
    "    print(\"No\")"
   ]
  },
  {
   "cell_type": "markdown",
   "metadata": {},
   "source": [
    "### Các method của `list`"
   ]
  },
  {
   "cell_type": "markdown",
   "metadata": {},
   "source": [
    "Cách dùng: `list.method`\n",
    "\n",
    "- `append(new_item)`: Thêm 1 phần tử vào cuối list\n",
    "- `remove(item)`: Xóa phần tử khỏi list\n",
    "- `insert(position, item)`: Thêm phần tử vào vị trí trong list\n",
    "- `pop(position)`: Xóa phần tử ở vị trí\n",
    "- `clear()`: Xóa hết\n",
    "- `extend(other_list)`: Ghép list với nhau"
   ]
  },
  {
   "cell_type": "code",
   "execution_count": null,
   "metadata": {},
   "outputs": [],
   "source": [
    "fruits = [\"apple\", \"banana\", \"mango\"]\n",
    "print(fruits)\n",
    "\n",
    "fruits.append(\"orange\")\n",
    "print(fruits)\n",
    "\n",
    "fruits.remove(\"banana\")\n",
    "print(fruits)\n",
    "\n",
    "fruits.insert(1, \"coconut\")\n",
    "print(fruits)\n",
    "\n",
    "fruits.pop(3)\n",
    "print(fruits)\n",
    "\n",
    "fruits.extend([\"water\", \"tea\"])\n",
    "print(fruits)\n",
    "\n",
    "fruits.clear()\n",
    "print(fruits)"
   ]
  },
  {
   "cell_type": "markdown",
   "metadata": {},
   "source": [
    "### Thực hành:"
   ]
  },
  {
   "cell_type": "markdown",
   "metadata": {},
   "source": [
    "1. Cho list `fruits = [\"apple\", \"banana\", \"cherry\"]`. Hãy:\n",
    "- Tính độ dài của list\n",
    "- Xóa phần tử thứ hai khỏi list\n",
    "- Thêm \"grape\" vào cuối list\n",
    "- Kiểm tra xem \"coca\" có trong list không?\n",
    "- Xóa tất các phần tử trong list\n",
    "\n",
    "<!-- ```python\n",
    "fruits = [\"apple\", \"banana\", \"cherry\"]\n",
    "print(len(fruits))\n",
    "fruits.pop(1)\n",
    "print(fruits)\n",
    "fruits.append(\"grape\")\n",
    "print(fruits)\n",
    "print(True if \"coca\" in fruits else False)\n",
    "fruits.clear()\n",
    "print(fruits)\n",
    "``` -->"
   ]
  },
  {
   "cell_type": "code",
   "execution_count": null,
   "metadata": {},
   "outputs": [],
   "source": []
  },
  {
   "cell_type": "markdown",
   "metadata": {},
   "source": [
    "2. Cho list `[1, 2, 3, 5]`, dùng list comprehension để tạo thành list mới là bình phương của list gốc\n",
    "\n",
    "<!-- ```python\n",
    "a = [1, 2, 3, 5]\n",
    "print([x**2 for x in a])\n",
    "``` -->"
   ]
  },
  {
   "cell_type": "code",
   "execution_count": null,
   "metadata": {},
   "outputs": [],
   "source": []
  },
  {
   "cell_type": "markdown",
   "metadata": {},
   "source": [
    "## Python collection: `tuple`"
   ]
  },
  {
   "cell_type": "markdown",
   "metadata": {},
   "source": [
    "Cấu trúc: `(<item1>, <item2>, ...)`\n",
    "\n",
    "VD: `a = (1, 2, \"a\")`"
   ]
  },
  {
   "cell_type": "code",
   "execution_count": null,
   "metadata": {},
   "outputs": [],
   "source": [
    "# Đây là 1 tuple chứa string\n",
    "str_tuple = (\"a\", \"b\", \"c\")\n",
    "print(type(str_tuple), str_tuple)\n",
    "\n",
    "# Đây là 1 tuple chứa int\n",
    "int_tuple = (1, 2, 3)\n",
    "print(type(int_tuple), int_tuple)\n",
    "\n",
    "# Đây là tuple hỗn hợp\n",
    "mixed_tuple = (1, 2, \"a\", \"b\", True, False)\n",
    "print(type(mixed_tuple), mixed_tuple)"
   ]
  },
  {
   "cell_type": "markdown",
   "metadata": {},
   "source": [
    "## Python collection: `set`"
   ]
  },
  {
   "cell_type": "markdown",
   "metadata": {},
   "source": [
    "Cấu trúc: `{<item1>, <item2>, ...}`\n",
    "\n",
    "VD: `a = {1, 2, \"a\"}`"
   ]
  },
  {
   "cell_type": "markdown",
   "metadata": {},
   "source": [
    "## Python collection: `dict`"
   ]
  },
  {
   "cell_type": "markdown",
   "metadata": {},
   "source": [
    "Cấu trúc: `{key: value}`\n",
    "\n",
    "VD:\n",
    "```python\n",
    "a = {\"Cacbon\": 12}\n",
    "```\n",
    "\n",
    "```python\n",
    "b = {\n",
    "    \"One\": 1,\n",
    "    \"Two\": 2,\n",
    "    3: \"Three\"\n",
    "}\n",
    "```"
   ]
  }
 ],
 "metadata": {
  "kernelspec": {
   "display_name": "venv",
   "language": "python",
   "name": "python3"
  },
  "language_info": {
   "codemirror_mode": {
    "name": "ipython",
    "version": 3
   },
   "file_extension": ".py",
   "mimetype": "text/x-python",
   "name": "python",
   "nbconvert_exporter": "python",
   "pygments_lexer": "ipython3",
   "version": "3.11.6"
  }
 },
 "nbformat": 4,
 "nbformat_minor": 2
}
