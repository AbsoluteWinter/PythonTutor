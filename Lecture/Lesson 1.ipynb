{
 "cells": [
  {
   "cell_type": "markdown",
   "metadata": {},
   "source": [
    "# **Bài 01**"
   ]
  },
  {
   "cell_type": "markdown",
   "metadata": {},
   "source": [
    "## Hàm `print()`"
   ]
  },
  {
   "cell_type": "markdown",
   "metadata": {},
   "source": [
    "Dùng để in giá trị lên màn hình"
   ]
  },
  {
   "cell_type": "code",
   "execution_count": null,
   "metadata": {},
   "outputs": [],
   "source": [
    "print(\"Hello World\")  # in chữ"
   ]
  },
  {
   "cell_type": "code",
   "execution_count": null,
   "metadata": {},
   "outputs": [],
   "source": [
    "print(3)  # in số\n",
    "print(3.6)  # in số thập phân"
   ]
  },
  {
   "cell_type": "code",
   "execution_count": null,
   "metadata": {},
   "outputs": [],
   "source": [
    "print(\"Xin chào\", 668)  # in cả chữ và số"
   ]
  },
  {
   "cell_type": "code",
   "execution_count": null,
   "metadata": {},
   "outputs": [],
   "source": [
    "# Mặc định xuống dòng sau mỗi lệnh in\n",
    "print(1)\n",
    "print(2)\n",
    "\n",
    "# In không xuống dòng, thêm tham số `end=`\n",
    "print(1, end=\" \")\n",
    "print(2, end=\" \")"
   ]
  },
  {
   "cell_type": "markdown",
   "metadata": {},
   "source": [
    "Ký tự đặc biệt:\n",
    "- `\\n`: Xuống dòng\n",
    "- `\\t`: Dấu tab"
   ]
  },
  {
   "cell_type": "code",
   "execution_count": null,
   "metadata": {},
   "outputs": [],
   "source": [
    "print(\"Hello\\nWorld\")\n",
    "print(\"Hello\\tWorld\")"
   ]
  },
  {
   "cell_type": "markdown",
   "metadata": {},
   "source": [
    "Thực hành: In ra câu chào với tên của mình (VD: Chào tôi là Python)"
   ]
  },
  {
   "cell_type": "code",
   "execution_count": null,
   "metadata": {},
   "outputs": [],
   "source": []
  },
  {
   "cell_type": "markdown",
   "metadata": {},
   "source": [
    "## Biến (variable)"
   ]
  },
  {
   "cell_type": "markdown",
   "metadata": {},
   "source": [
    "Dùng để gán giá trị"
   ]
  },
  {
   "cell_type": "code",
   "execution_count": null,
   "metadata": {},
   "outputs": [],
   "source": [
    "# tên_biến = giá trị\n",
    "a = 1\n",
    "b = 2\n",
    "c = \"John Doe\"\n",
    "\n",
    "print(\"a =\", a)\n",
    "print(\"b =\", b)\n",
    "print(\"c =\", c)"
   ]
  },
  {
   "cell_type": "markdown",
   "metadata": {},
   "source": [
    "*Lưu ý:*\n",
    "- Nên đặt tên biến sao cho có nghĩa\n",
    "- Tên biến phải bắt đầu bằng ký tự chữ cái hoặc ký tự gạch chân (`_`)\n",
    "- Tên không được bắt đầu bằng ký tự số\n",
    "- Trong tên biến chỉ được chứa các ký tự \\[a-Z], 0-9 và _\n",
    "- Tên biến có phân biệt giữa viết hoa và viết thường (VD: `age`, `Age`, `AGE` là 3 tên biến khác nhau)"
   ]
  },
  {
   "cell_type": "markdown",
   "metadata": {},
   "source": [
    "Thực hành: Đâu là tên biến đúng quy tắc\n",
    "\n",
    "- myvar = \"John\"\n",
    "- my_var = \"John\"\n",
    "- 2myvar = \"John\"  <!-- sai -->\n",
    "- _my_var = \"John\"\n",
    "- myVar = \"John\"\n",
    "- my-var = \"John\"  <!-- sai -->\n",
    "- MYVAR = \"John\"\n",
    "- myvar2 = \"John\"\n",
    "- my var = \"John\"  <!-- sai -->"
   ]
  },
  {
   "cell_type": "markdown",
   "metadata": {},
   "source": [
    "## Hàm `input()`"
   ]
  },
  {
   "cell_type": "markdown",
   "metadata": {},
   "source": [
    "Dùng để yêu cầu người dùng nhập dữ liệu"
   ]
  },
  {
   "cell_type": "code",
   "execution_count": null,
   "metadata": {},
   "outputs": [],
   "source": [
    "name = input(\"What's your name?\")\n",
    "print(\"Hello \" + name)"
   ]
  },
  {
   "cell_type": "markdown",
   "metadata": {},
   "source": [
    "Thực hành: Cho người dùng nhập tên, quê quán. In ra thông tin của người dùng."
   ]
  },
  {
   "cell_type": "code",
   "execution_count": null,
   "metadata": {},
   "outputs": [],
   "source": []
  },
  {
   "cell_type": "markdown",
   "metadata": {},
   "source": [
    "## Comment"
   ]
  },
  {
   "cell_type": "markdown",
   "metadata": {},
   "source": [
    "Comment (nhận xét, ghi chú) dùng khi muốn mô tả hay bổ sung thêm thông tin cho code mà không làm ảnh hưởng đến code. Thường dùng cho mục đích viết tài liệu cho code để dễ đọc."
   ]
  },
  {
   "cell_type": "code",
   "execution_count": null,
   "metadata": {},
   "outputs": [],
   "source": [
    "# Đây là comment\n",
    "# Comment được bắt đầu bằng dấu `#`\n",
    "print(\"Hello\")"
   ]
  },
  {
   "cell_type": "code",
   "execution_count": null,
   "metadata": {},
   "outputs": [],
   "source": [
    "\"\"\"\n",
    "Đây là comment\n",
    "được\n",
    "viết trên\n",
    "nhiều dòng\n",
    "\"\"\"\n",
    "print(\"Hello\")"
   ]
  },
  {
   "cell_type": "code",
   "execution_count": null,
   "metadata": {},
   "outputs": [],
   "source": [
    "Không comment dòng này thì sẽ không chạy được\n",
    "print(\"Hello\")"
   ]
  },
  {
   "cell_type": "markdown",
   "metadata": {},
   "source": [
    "Thực hành: Hãy sửa code sau sao cho chạy được (comment đúng chỗ)"
   ]
  },
  {
   "cell_type": "code",
   "execution_count": null,
   "metadata": {},
   "outputs": [],
   "source": [
    "Đây là code mẫu\n",
    "a = 1 gán giá trị 1 cho a\n",
    "b = 2\n",
    "print(a + b)  Cộng hai giá trị lại với nhau"
   ]
  },
  {
   "cell_type": "markdown",
   "metadata": {},
   "source": [
    "## Thực hành"
   ]
  },
  {
   "cell_type": "markdown",
   "metadata": {},
   "source": [
    "1. Viết chương trình cho người dùng nhập: tên, tuổi, chiều cao, quốc tịch. In ra các thông tin của người đấy.\n",
    "\n",
    "<!-- \n",
    "```python\n",
    "name = input(\"What's your name?\")\n",
    "age = input(\"How old are you?\")\n",
    "height = input(\"How tall are you?\")\n",
    "nationality = input(\"Where are you from?\")\n",
    "print(\n",
    "    \"Your name is\",\n",
    "    name,\n",
    "    \". You are\",\n",
    "    age,\n",
    "    \"years old. Your height is\",\n",
    "    height,\n",
    "    \"and you are from\",\n",
    "    nationality,\n",
    ")\n",
    "```\n",
    "-->"
   ]
  },
  {
   "cell_type": "code",
   "execution_count": null,
   "metadata": {},
   "outputs": [],
   "source": []
  },
  {
   "cell_type": "markdown",
   "metadata": {},
   "source": [
    "2. Cho nhập năm sinh, in tuổi.\n",
    "\n",
    "Gợi ý: Dùng `int(input())` để chuyển giá trị nhập vào thành dạng số\n",
    "\n",
    "<!-- \n",
    "```python\n",
    "from datetime import datetime\n",
    "\n",
    "year = int(input(\"What's your birth year?\"))\n",
    "print(\"Your age is\", datetime.now().year - year)\n",
    "```\n",
    "-->"
   ]
  },
  {
   "cell_type": "code",
   "execution_count": null,
   "metadata": {},
   "outputs": [],
   "source": []
  },
  {
   "cell_type": "markdown",
   "metadata": {},
   "source": [
    "3. Nhập vào 2 số a, b. Tính a+b , a-b, a*b, a/b. Ví dụ a = 3, b = 5, in ra theo cú pháp:\n",
    "- 3 + 5 = 8\n",
    "- 3 - 5 = -2\n",
    "- 3 * 5 = 15\n",
    "- 3 / 5 = 0.6\n",
    "\n",
    "<!-- \n",
    "```python\n",
    "a = int(input(\"Nhap so a:\"))\n",
    "b = int(input(\"Nhap so b:\"))\n",
    "# print(a, \"+\", b, \"=\", a + b)\n",
    "# print(a, \"-\", b, \"=\", a - b)\n",
    "# print(a, \"*\", b, \"=\", a * b)\n",
    "# print(a, \"/\", b, \"=\", a / b)\n",
    "for x in \"+-*/\":\n",
    "    res=eval(f\"a{x}b\")\n",
    "    print(f\"{a} {x} {b} = {res}\")\n",
    "```\n",
    "-->"
   ]
  },
  {
   "cell_type": "code",
   "execution_count": null,
   "metadata": {},
   "outputs": [],
   "source": []
  },
  {
   "cell_type": "markdown",
   "metadata": {},
   "source": [
    "## Hàm `.format()`"
   ]
  },
  {
   "cell_type": "markdown",
   "metadata": {},
   "source": [
    "Hay dùng chung với hàm `print()` để in ra giá trị của biến"
   ]
  },
  {
   "cell_type": "code",
   "execution_count": null,
   "metadata": {},
   "outputs": [],
   "source": [
    "name = \"John\"\n",
    "fruit = \"Apple\"\n",
    "\n",
    "print(name, \"likes to eat\", fruit)\n",
    "print(\"{} likes to eat {}\".format(name, fruit))\n",
    "print(\"{0} likes to eat {1}. {1} is good.\".format(name, fruit)) # Cũng có thể đánh số"
   ]
  },
  {
   "cell_type": "markdown",
   "metadata": {},
   "source": [
    "Ngoài ra, ta cũng có thể dùng f-string"
   ]
  },
  {
   "cell_type": "code",
   "execution_count": null,
   "metadata": {},
   "outputs": [],
   "source": [
    "name = \"John\"\n",
    "print(f\"My name is {name}\")"
   ]
  },
  {
   "cell_type": "markdown",
   "metadata": {},
   "source": [
    "## Loại dữ liệu"
   ]
  },
  {
   "cell_type": "markdown",
   "metadata": {},
   "source": [
    "Trong Python có nhiều loại/kiểu dữ liệu. Ta có thể dùng hàm `type()` để kiểm tra loại dữ liệu."
   ]
  },
  {
   "cell_type": "code",
   "execution_count": null,
   "metadata": {},
   "outputs": [],
   "source": [
    "name = \"John\"\n",
    "age = 10\n",
    "grade = 8.5\n",
    "is_student = True\n",
    "\n",
    "print(type(name))  # Dữ liệu dạng chữ: \"John\", \"Hello\"\n",
    "print(type(age))  # Dữ liệu dạng số: -5, 50, 10000\n",
    "print(type(grade))  # Dữ liệu dạng số thập phân: -55.5, 80.456, 1000.1\n",
    "print(type(is_student))  # Dữ liệu dạng boolean: Chỉ có True hoặc False"
   ]
  },
  {
   "cell_type": "markdown",
   "metadata": {},
   "source": [
    "Ngoài ra, ta cũng có thể ép kiểu dữ liệu"
   ]
  },
  {
   "cell_type": "code",
   "execution_count": null,
   "metadata": {},
   "outputs": [],
   "source": [
    "number = \"4\"\n",
    "print(type(number))\n",
    "\n",
    "number = int(number) # Ép sang kiểu số nguyên (int)\n",
    "print(type(number))"
   ]
  },
  {
   "cell_type": "markdown",
   "metadata": {},
   "source": [
    "Thực hành: Ép kiểu dữ liệu số sang chữ\n",
    "\n",
    "<!--\n",
    "```python\n",
    "number = 999\n",
    "print(type(number))\n",
    "\n",
    "number = str(number) \n",
    "print(type(number))\n",
    "```\n",
    "-->"
   ]
  },
  {
   "cell_type": "code",
   "execution_count": null,
   "metadata": {},
   "outputs": [],
   "source": []
  },
  {
   "cell_type": "markdown",
   "metadata": {},
   "source": [
    "## Biếu thức toán học"
   ]
  },
  {
   "cell_type": "markdown",
   "metadata": {},
   "source": [
    "- `+` : phép cộng\n",
    "- `-` : phép trừ\n",
    "- `*` : phép nhân\n",
    "- `/` : phép chia\n",
    "- `**` : mũ\n",
    "- `%` : số dư\n",
    "- `//` : phần nguyên"
   ]
  },
  {
   "cell_type": "code",
   "execution_count": null,
   "metadata": {},
   "outputs": [],
   "source": [
    "a = 3\n",
    "b = 5\n",
    "\n",
    "print(\"Tổng:\", a + b)\n",
    "print(\"Hiệu:\", a - b)\n",
    "print(\"Tích:\", a * b)\n",
    "print(\"Thương:\", a / b)\n",
    "print(\"Phần nguyên:\", a // b)\n",
    "print(\"Phần dư:\", a % b)\n",
    "print(\"Số mũ:\", a**b)"
   ]
  },
  {
   "cell_type": "markdown",
   "metadata": {},
   "source": [
    "Thực hành: Nhập vào 2 số từ bàn phím, in ra phần nguyên và phần dư của 2 số\n",
    "\n",
    "<!--\n",
    "```python\n",
    "a = int(input(\"Nhap so a:\"))\n",
    "b = int(input(\"Nhap so b:\"))\n",
    "print(\"Phan nguyen: {}\\nPhan du: {}\".format(a // b, a % b))\n",
    "```\n",
    "-->"
   ]
  },
  {
   "cell_type": "code",
   "execution_count": null,
   "metadata": {},
   "outputs": [],
   "source": []
  },
  {
   "cell_type": "markdown",
   "metadata": {},
   "source": [
    "## Thư viện `math`\n",
    "\n",
    "Tìm hiểu thêm về thư viện này tại [đây](https://docs.python.org/3/library/math.html)"
   ]
  },
  {
   "cell_type": "code",
   "execution_count": 30,
   "metadata": {},
   "outputs": [],
   "source": [
    "import math  # Dùng lệnh `import` để load thư viện vào môi trường code"
   ]
  },
  {
   "cell_type": "markdown",
   "metadata": {},
   "source": [
    "Các hàm cơ bản trong thư viện `math`\n",
    "- `ceil`: làm tròn trên\n",
    "- `floor`: làm tròn xuống\n",
    "- `sqrt`: căn bậc hai\n",
    "- `exp`: e^"
   ]
  },
  {
   "cell_type": "code",
   "execution_count": null,
   "metadata": {},
   "outputs": [],
   "source": [
    "a = 4.3\n",
    "\n",
    "print(math.ceil(a))\n",
    "print(math.floor(a))\n",
    "print(math.sqrt(a))\n",
    "print(math.exp(a))"
   ]
  },
  {
   "cell_type": "markdown",
   "metadata": {},
   "source": [
    "## Biểu thức so sánh"
   ]
  },
  {
   "cell_type": "markdown",
   "metadata": {},
   "source": [
    "- `==` : so sánh bằng\n",
    "- `!=` : khác\n",
    "- `>` : lớn hơn\n",
    "- `>=` : lớn hơn hoặc bằng\n",
    "- `<` : nhỏ hơn\n",
    "- `<=` : nhỏ hơn hoặc bằng\n",
    "\n",
    "Khi so sánh xong sẽ trả về giá trị boolean"
   ]
  },
  {
   "cell_type": "code",
   "execution_count": null,
   "metadata": {},
   "outputs": [],
   "source": [
    "a = 3\n",
    "b = 5\n",
    "\n",
    "print(a > b)\n",
    "print(type(a > b))"
   ]
  },
  {
   "cell_type": "code",
   "execution_count": null,
   "metadata": {},
   "outputs": [],
   "source": [
    "x = 10\n",
    "y = 12\n",
    "\n",
    "print(\"x > y is\", x > y)\n",
    "print(\"x < y is\", x < y)\n",
    "print(\"x == y is\", x == y)\n",
    "print(\"x != y is\", x != y)\n",
    "print(\"x >= y is\", x >= y)\n",
    "print(\"x <= y is\", x <= y)"
   ]
  },
  {
   "cell_type": "markdown",
   "metadata": {},
   "source": [
    "## And/Or"
   ]
  },
  {
   "cell_type": "markdown",
   "metadata": {},
   "source": [
    "Logic `and`:\n",
    "- Khi tất cả các điều kiện đều thỏa mãn (đều `True`) thì sẽ trả về giá trị `True`\n",
    "- Khi một trong các điều kiện không thỏa mãn (có 1 điều kiện `False`) thì sẽ trả về giá trị `False`\n",
    "\n",
    "| | |\n",
    "|:---:|:---:|\n",
    "|True and True | True|\n",
    "|True and False | False|\n",
    "|False and True | False|\n",
    "|False and False | False|"
   ]
  },
  {
   "cell_type": "code",
   "execution_count": null,
   "metadata": {},
   "outputs": [],
   "source": [
    "print(True and True)\n",
    "print(True and False)\n",
    "print(False and True)\n",
    "print(False and False)\n",
    "\n",
    "# Có thể dùng hàm `all()` để tính `and` cho 1 danh sách điều kiện\n",
    "print(all([True, True, True]))\n",
    "print(all([True, False, True]))\n",
    "print(all([False, False, False]))"
   ]
  },
  {
   "cell_type": "markdown",
   "metadata": {},
   "source": [
    "Logic `or`:\n",
    "- Khi một trong các điều kiện thỏa mãn (có 1 điều kiện `True`) thì sẽ trả về giá trị `True`\n",
    "- Khi tất cả các điều kiện đều không thỏa mãn (đều `False`) thì sẽ trả về giá trị `False`\n",
    "\n",
    "| | |\n",
    "|:---:|:---:|\n",
    "|True or True | True|\n",
    "|True or False | True|\n",
    "|False or True | True|\n",
    "|False or False | False|"
   ]
  },
  {
   "cell_type": "code",
   "execution_count": null,
   "metadata": {},
   "outputs": [],
   "source": [
    "print(True or True)\n",
    "print(True or False)\n",
    "print(False or True)\n",
    "print(False or False)\n",
    "\n",
    "# Có thể dùng hàm `any()` để tính `or` cho 1 danh sách điều kiện\n",
    "print(any([True, True, True]))\n",
    "print(any([True, False, True]))\n",
    "print(any([False, False, False]))"
   ]
  },
  {
   "cell_type": "markdown",
   "metadata": {},
   "source": [
    "## Điều kiện (Condition) `If/Else`"
   ]
  },
  {
   "cell_type": "markdown",
   "metadata": {},
   "source": [
    "Dùng để chạy code khi thỏa mãn điều kiện đã đưa ra\n",
    "\n",
    "Cấu trúc:\n",
    "```\n",
    "if condition:\n",
    "    do_something\n",
    "else:\n",
    "    do_other_thing\n",
    "```\n",
    "\n",
    "```\n",
    "if condition 1:\n",
    "    do_something\n",
    "elif condition 2:\n",
    "    do_something\n",
    "elif condition 3:\n",
    "    do_something\n",
    "else:\n",
    "    do_something\n",
    "```"
   ]
  },
  {
   "cell_type": "code",
   "execution_count": null,
   "metadata": {},
   "outputs": [],
   "source": [
    "if 10 > 5:\n",
    "    print(\"10 lớn hơn 5\")"
   ]
  },
  {
   "cell_type": "code",
   "execution_count": null,
   "metadata": {},
   "outputs": [],
   "source": [
    "if 5 + 5 == 10:  # Kiểm tra xem 5+5 có bằng 10 không\n",
    "    print(\"Đúng rồi\")  # Chạy câu lệnh này và không chạy lệnh dưới\n",
    "else:\n",
    "    print(\"Sai bét\")"
   ]
  },
  {
   "cell_type": "code",
   "execution_count": null,
   "metadata": {},
   "outputs": [],
   "source": [
    "if 5 + 5 == 11:  # Kiểm tra xem 5+5 có bằng 11 không\n",
    "    print(\"Đúng rồi\")  # Lệnh này không chạy vì sai\n",
    "else:\n",
    "    print(\"Sai bét\")  # Chạy lệnh này vì 5 + 5 không bằng 11"
   ]
  },
  {
   "cell_type": "markdown",
   "metadata": {},
   "source": [
    "## Thực hành"
   ]
  },
  {
   "cell_type": "markdown",
   "metadata": {},
   "source": [
    "1. Cho người dùng nhập vào 1 số, kiểm tra xem số đấy có chia hết cho 3 hay không và in ra màn hình.\n",
    "\n",
    "<!--\n",
    "```python\n",
    "a = int(input(\"Nhap so a:\"))\n",
    "if a % 3 == 0:\n",
    "    print(\"Chia het cho 3\")\n",
    "else:\n",
    "    print(\"Khong chia het cho 3\")\n",
    "```\n",
    "-->"
   ]
  },
  {
   "cell_type": "code",
   "execution_count": null,
   "metadata": {},
   "outputs": [],
   "source": []
  },
  {
   "cell_type": "markdown",
   "metadata": {},
   "source": [
    "2. Website chỉ bán rượu cho người trên 18 tuổi, cho phép người dùng nhập năm sinh, in ra xem người dùng có được mua rượu hay không.\n",
    "\n",
    "\n",
    "<!--\n",
    "```python\n",
    "from datetime import datetime\n",
    "\n",
    "year = int(input(\"What's your birth year?\"))\n",
    "age = datetime.now().year - year\n",
    "if age > 18:\n",
    "    print(\"Duoc mua ruou\")\n",
    "else:\n",
    "    print(\"Khong duoc mua ruou\")\n",
    "```\n",
    "-->"
   ]
  },
  {
   "cell_type": "code",
   "execution_count": null,
   "metadata": {},
   "outputs": [],
   "source": []
  },
  {
   "cell_type": "markdown",
   "metadata": {},
   "source": [
    "3. Cho học sinh nhập điểm, kiểm tra học lực của học sinh biết rằng:\n",
    "- Học sinh giỏi [8-10)\n",
    "- Học sinh khá [6.5-8)\n",
    "- Học sinh trung bình [5-6.5)\n",
    "- Học sinh yếu [0-5)\n",
    "- Còn lại báo điểm không hợp lệ\n",
    "\n",
    "\n",
    "<!--\n",
    "```python\n",
    "grade = float(input(\"Input grade: \"))\n",
    "if grade < 0 or grade > 10:\n",
    "    print(\"Invalid grade\")\n",
    "elif grade < 5:\n",
    "    print(\"Hoc sinh yeu\")\n",
    "elif grade < 6.5:\n",
    "    print(\"Hoc sinh trung binh\")\n",
    "elif grade < 8:\n",
    "    print(\"Hoc sinh kha\")\n",
    "else:\n",
    "    print(\"Hoc sinh gioi\")\n",
    "\n",
    "# # Method 02\n",
    "# rank = {\n",
    "#     \"8\": \"Gioi\",\n",
    "#     \"6.5\": \"Kha\",\n",
    "#     \"5\": \"Trung binh\",\n",
    "#     \"0\": \"Yeu\"\n",
    "# }\n",
    "# if (grade < 0 or grade > 10):\n",
    "#   print(\"Invalid grade\")\n",
    "# else:\n",
    "#   for x in rank:\n",
    "#     if grade >= float(x):\n",
    "#       print(rank[x])\n",
    "#       break\n",
    "```\n",
    "-->"
   ]
  },
  {
   "cell_type": "code",
   "execution_count": null,
   "metadata": {},
   "outputs": [],
   "source": []
  },
  {
   "cell_type": "markdown",
   "metadata": {},
   "source": [
    "4. Nhập vào 1 năm, kiểm tra xem có phải năm nhuận không?\n",
    "\n",
    "\n",
    "<!--\n",
    "```python\n",
    "year = int(input(\"Year: \"))\n",
    "\n",
    "if (year % 400 == 0) or (year % 4 == 0 and year % 100 != 0):\n",
    "    print(\"Nam nhuan\")\n",
    "else:\n",
    "    print(\"Khong phai nam nhuan\")\n",
    "```\n",
    "-->"
   ]
  },
  {
   "cell_type": "code",
   "execution_count": null,
   "metadata": {},
   "outputs": [],
   "source": []
  },
  {
   "cell_type": "markdown",
   "metadata": {},
   "source": [
    "## Điều kiện lồng (Nested condition)"
   ]
  },
  {
   "cell_type": "markdown",
   "metadata": {},
   "source": [
    "Cơ bản là `if` trong `if`"
   ]
  },
  {
   "cell_type": "code",
   "execution_count": null,
   "metadata": {},
   "outputs": [],
   "source": [
    "a = 10\n",
    "\n",
    "if a > 5:\n",
    "    if a > 10:\n",
    "        print(\"a lớn hơn 10\")\n",
    "    else:\n",
    "        print(\"a lớn hơn 5\")\n",
    "else:\n",
    "    print(\"a bé hơn 5\")"
   ]
  },
  {
   "cell_type": "markdown",
   "metadata": {},
   "source": [
    "Thực hành: Cho nhập vào 3 số, tìm các số lớn nhất. Ví dụ: a = 10, b = 3, c = 10, in ra số lớn nhất là a và c.\n",
    "\n",
    "<!--\n",
    "```python\n",
    "a = int(input(\"Nhap so a:\"))\n",
    "b = int(input(\"Nhap so b:\"))\n",
    "c = int(input(\"Nhap so c:\"))\n",
    "\n",
    "max_num = 0\n",
    "if a > b:\n",
    "    if a > c:\n",
    "        max_num = a\n",
    "    else:\n",
    "        max_num = c\n",
    "else:\n",
    "    if b > c:\n",
    "        max_num = b\n",
    "    else:\n",
    "        max_num = c\n",
    "print(max_num)\n",
    "```\n",
    "-->"
   ]
  },
  {
   "cell_type": "code",
   "execution_count": null,
   "metadata": {},
   "outputs": [],
   "source": []
  }
 ],
 "metadata": {
  "kernelspec": {
   "display_name": "venv",
   "language": "python",
   "name": "python3"
  },
  "language_info": {
   "codemirror_mode": {
    "name": "ipython",
    "version": 3
   },
   "file_extension": ".py",
   "mimetype": "text/x-python",
   "name": "python",
   "nbconvert_exporter": "python",
   "pygments_lexer": "ipython3",
   "version": "3.11.6"
  }
 },
 "nbformat": 4,
 "nbformat_minor": 2
}
