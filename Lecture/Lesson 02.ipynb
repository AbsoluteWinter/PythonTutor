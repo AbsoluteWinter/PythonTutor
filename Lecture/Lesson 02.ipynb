{
 "cells": [
  {
   "cell_type": "markdown",
   "metadata": {},
   "source": [
    "# **Bài 02:**"
   ]
  },
  {
   "cell_type": "markdown",
   "metadata": {},
   "source": [
    "## Python collection: `list`"
   ]
  },
  {
   "cell_type": "markdown",
   "metadata": {},
   "source": [
    "Cấu trúc: \\[\\<item1>, \\<item2>, ...]\n",
    "\n",
    "Tạm hiểu là 1 danh sách chứa các phần tử khác nhau"
   ]
  },
  {
   "cell_type": "code",
   "execution_count": null,
   "metadata": {},
   "outputs": [],
   "source": [
    "# Đây là 1 list chứa string\n",
    "str_list = [\"a\", \"b\", \"c\"]\n",
    "print(str_list)\n",
    "\n",
    "# Đây là 1 list chứa int\n",
    "int_list = [1, 2, 3]\n",
    "print(int_list)\n",
    "\n",
    "# Đây là list hỗn hợp\n",
    "mixed_list = [1, 2, \"a\", \"b\", True, False]\n",
    "print(mixed_list)"
   ]
  },
  {
   "cell_type": "markdown",
   "metadata": {},
   "source": [
    "Ta có thể truy cập vào từng phần tử 1 bằng cách số thứ tự.\n",
    "\n",
    "Lưu ý:\n",
    "- Thứ tự trong collection bắt đầu từ 0\n",
    "- Phần tử cuối cùng trong collection là -1"
   ]
  },
  {
   "cell_type": "code",
   "execution_count": null,
   "metadata": {},
   "outputs": [],
   "source": [
    "fruits = [\"apple\", \"banana\", \"mango\"]\n",
    "\n",
    "# Lấy phần tử đầu tiên (apple)\n",
    "print(fruits[0])\n",
    "\n",
    "# Lấy phần tử cuối cùng\n",
    "print(fruits[-1])\n",
    "print(fruits[2])  # Như này cũng được"
   ]
  },
  {
   "cell_type": "markdown",
   "metadata": {},
   "source": [
    "Ta có thể dùng hàm `len()` để kiểm tra độ dài (có bao nhiêu phần tử) của 1 collection"
   ]
  },
  {
   "cell_type": "code",
   "execution_count": null,
   "metadata": {},
   "outputs": [],
   "source": [
    "fruits = [\"apple\", \"banana\", \"mango\"]\n",
    "\n",
    "print(len(fruits))"
   ]
  },
  {
   "cell_type": "markdown",
   "metadata": {},
   "source": [
    "Thực hành: Kết hợp hàm `len()` để in ra phần tử cuối cùng trong list sau: `fruits = [\"apple\", \"banana\", \"mango\"]`\n",
    "\n",
    "<!-- ```python\n",
    "fruits = [\"apple\", \"banana\", \"mango\"]\n",
    "print(fruits[len(fruits) - 1])\n",
    "``` -->"
   ]
  },
  {
   "cell_type": "code",
   "execution_count": null,
   "metadata": {},
   "outputs": [],
   "source": []
  },
  {
   "cell_type": "markdown",
   "metadata": {},
   "source": [
    "## Vòng lặp `while`"
   ]
  },
  {
   "cell_type": "markdown",
   "metadata": {},
   "source": [
    "Cấu trúc\n",
    "\n",
    "```\n",
    "While condition:\n",
    "    Do_commands\n",
    "```\n",
    "\n",
    "Vòng lặp này sẽ chạy vĩnh viễn cho đến khi điều kiện để chạy không đúng nữa (trả về `False`)"
   ]
  },
  {
   "cell_type": "code",
   "execution_count": null,
   "metadata": {},
   "outputs": [],
   "source": [
    "# Vòng lặp này sẽ chạy và dừng lại\n",
    "i = 0\n",
    "while i < 10:\n",
    "    print(i)\n",
    "    i += 1"
   ]
  },
  {
   "cell_type": "code",
   "execution_count": null,
   "metadata": {},
   "outputs": [],
   "source": [
    "# Vòng lặp này sẽ chạy vĩnh viễn do không có điều kiện kết thúc vòng lặp\n",
    "# Cụ thể trong trường hợp này là i != 10\n",
    "i = 0\n",
    "while i < 10:\n",
    "    print(i)\n",
    "    # i += 1"
   ]
  },
  {
   "cell_type": "markdown",
   "metadata": {},
   "source": [
    "Thực hành:"
   ]
  },
  {
   "cell_type": "markdown",
   "metadata": {},
   "source": [
    "1. In ra các số chẵn nhỏ hơn 10\n",
    "\n",
    "<!-- ```python\n",
    "n = 0\n",
    "while n < 10:\n",
    "    if n % 2 == 0:\n",
    "        print(n)\n",
    "    n += 1\n",
    "``` -->\n",
    "\n",
    "<!-- ```python\n",
    "n = 0\n",
    "while n < 10:\n",
    "    print(n)\n",
    "    n += 2\n",
    "``` -->"
   ]
  },
  {
   "cell_type": "code",
   "execution_count": null,
   "metadata": {},
   "outputs": [],
   "source": []
  },
  {
   "cell_type": "markdown",
   "metadata": {},
   "source": [
    "2. Cho người dùng nhập điểm cho đến khi điểm trong khoảng 0 - 10, nếu người dùng nhập sai in thông báo điểm không hợp lệ và cho người dùng nhập lại. Cuối cùng in ra điểm nhập đúng.\n",
    "\n",
    "<!-- ```python\n",
    "grade = float(input(\"Enter grade: \"))\n",
    "while (grade < 0) or (grade > 10):\n",
    "    grade = float(input(\"Invalid grade, please enter again: \"))\n",
    "\n",
    "print(f\"You entered: {grade}\")\n",
    "``` -->"
   ]
  },
  {
   "cell_type": "code",
   "execution_count": null,
   "metadata": {},
   "outputs": [],
   "source": []
  },
  {
   "cell_type": "markdown",
   "metadata": {},
   "source": [
    "Ta có thể dùng từ khóa `break` để ép kết thúc vòng lặp"
   ]
  },
  {
   "cell_type": "code",
   "execution_count": null,
   "metadata": {},
   "outputs": [],
   "source": [
    "i = 0\n",
    "\n",
    "while i < 10:\n",
    "    print(i)\n",
    "    if i == 3:\n",
    "        break  # Đáng ra i phải chạy đến 10 nhưng khi i = 3 đã bị ép kết thúc vòng lặp\n",
    "    i += 1"
   ]
  },
  {
   "cell_type": "markdown",
   "metadata": {},
   "source": [
    "Ta có thể dùng từ khóa `continue` để bỏ qua vòng lặp hiện tại và chuyển tiếp sang vòng lặp kế"
   ]
  },
  {
   "cell_type": "code",
   "execution_count": null,
   "metadata": {},
   "outputs": [],
   "source": [
    "i = 0\n",
    "while i < 10:\n",
    "    i += 1\n",
    "    if i == 2:  # Bỏ qua khi i = 2\n",
    "        continue\n",
    "    print(i)"
   ]
  },
  {
   "cell_type": "markdown",
   "metadata": {},
   "source": [
    "Từ khóa `else` dùng để chạy khi điều kiện trong vòng lặp là `False`"
   ]
  },
  {
   "cell_type": "code",
   "execution_count": null,
   "metadata": {},
   "outputs": [],
   "source": [
    "i = 0\n",
    "while i < 10:\n",
    "    i += 1\n",
    "    print(i)\n",
    "else:\n",
    "    print(\"Value is larger than 10\")"
   ]
  },
  {
   "cell_type": "markdown",
   "metadata": {},
   "source": [
    "## Vòng lặp `for`"
   ]
  },
  {
   "cell_type": "markdown",
   "metadata": {},
   "source": [
    "Một dạng vòng lặp **không** chạy vĩnh viễn. Thường dùng để thực hiện lệnh cho từng phần tử một trong các collection (`list`, `dict`, `set`, `tuple`)\n",
    "\n",
    "Tương tự như vòng lặp `while`, vòng lặp `for` cũng dùng được các từ khóa `break`, `continue`, `else`\n",
    "\n",
    "Cấu trúc\n",
    "\n",
    "```\n",
    "for something in somethings:\n",
    "    Do_commands\n",
    "```"
   ]
  },
  {
   "cell_type": "code",
   "execution_count": null,
   "metadata": {},
   "outputs": [],
   "source": [
    "fruits = [\"apple\", \"banana\", \"mango\"]\n",
    "\n",
    "for x in fruits:\n",
    "    print(x)"
   ]
  },
  {
   "cell_type": "code",
   "execution_count": null,
   "metadata": {},
   "outputs": [],
   "source": [
    "# Ví dụ về break\n",
    "fruits = [\"apple\", \"banana\", \"mango\"]\n",
    "\n",
    "for x in fruits:\n",
    "    print(x)\n",
    "    if x == \"banana\":\n",
    "        break"
   ]
  },
  {
   "cell_type": "code",
   "execution_count": null,
   "metadata": {},
   "outputs": [],
   "source": [
    "# Ví dụ về continue\n",
    "fruits = [\"apple\", \"banana\", \"mango\"]\n",
    "\n",
    "for x in fruits:\n",
    "    if x == \"banana\":\n",
    "        continue\n",
    "    print(x)"
   ]
  },
  {
   "cell_type": "markdown",
   "metadata": {},
   "source": [
    "Ta cũng có thể kết hợp với `enumerate()` để lấy số thứ tự trong 1 collection luôn"
   ]
  },
  {
   "cell_type": "code",
   "execution_count": null,
   "metadata": {},
   "outputs": [],
   "source": [
    "fruits = [\"apple\", \"banana\", \"mango\"]\n",
    "\n",
    "for i, x in enumerate(fruits):\n",
    "    print(i, x)"
   ]
  },
  {
   "cell_type": "markdown",
   "metadata": {},
   "source": [
    "## Hàm `range()`"
   ]
  },
  {
   "cell_type": "markdown",
   "metadata": {},
   "source": [
    "Hàm này trả về 1 chuỗi giá trị để chạỵ vòng lặp qua\n",
    "\n",
    "`range(start=0, stop=0, step=1)`\n",
    "\n",
    "Trong đó: `stop` với `step` là 2 tham số không bắt buộc"
   ]
  },
  {
   "cell_type": "code",
   "execution_count": null,
   "metadata": {},
   "outputs": [],
   "source": [
    "print(list(range(10)))  # range(10) trả về các giá trị từ 0 đến 9"
   ]
  },
  {
   "cell_type": "code",
   "execution_count": null,
   "metadata": {},
   "outputs": [],
   "source": [
    "print(list(range(5, 10)))"
   ]
  },
  {
   "cell_type": "code",
   "execution_count": null,
   "metadata": {},
   "outputs": [],
   "source": [
    "print(list(range(4, 10, 2)))"
   ]
  },
  {
   "cell_type": "code",
   "execution_count": null,
   "metadata": {},
   "outputs": [],
   "source": [
    "# Dùng kết hợp với len()\n",
    "fruits = [\"apple\", \"banana\", \"mango\"]\n",
    "for i in range(len(fruits)):\n",
    "    print(fruits[i])"
   ]
  },
  {
   "cell_type": "markdown",
   "metadata": {},
   "source": [
    "Thực hành: Dùng for in ra các số nguyên dương chia hết cho 3 nhưng không chia hết cho 5 nhỏ hơn 100\n",
    "\n",
    "<!-- ```python\n",
    "for i in range(3, 100, 3):  # Chạy từ 3 đến 100 với step là 3\n",
    "    if i % 5 != 0:\n",
    "        print(i, end=\" \")\n",
    "``` -->"
   ]
  },
  {
   "cell_type": "code",
   "execution_count": null,
   "metadata": {},
   "outputs": [],
   "source": []
  },
  {
   "cell_type": "markdown",
   "metadata": {},
   "source": [
    "## Vòng lặp lồng (Nested loop)"
   ]
  },
  {
   "cell_type": "markdown",
   "metadata": {},
   "source": [
    "Là vòng lặp trong vòng lặp"
   ]
  },
  {
   "cell_type": "code",
   "execution_count": null,
   "metadata": {},
   "outputs": [],
   "source": [
    "for i in range(3):\n",
    "    for j in range(4):\n",
    "        print(i, j)"
   ]
  },
  {
   "cell_type": "markdown",
   "metadata": {},
   "source": [
    "Áp dụng vào việc xử lý `list` trong `list`"
   ]
  },
  {
   "cell_type": "code",
   "execution_count": null,
   "metadata": {},
   "outputs": [],
   "source": [
    "matrix = [[1, 2, 3], [4, 5, 6]]\n",
    "\n",
    "for i in range(len(matrix)):\n",
    "    for j in range(len(matrix[i])):\n",
    "        print(matrix[i][j])"
   ]
  },
  {
   "cell_type": "markdown",
   "metadata": {},
   "source": [
    "Thực hành:\n",
    "Cho ma trận kích thước 2x3, `A = [[1, 2, 3], [4, 5, 6]]`, tính:\n",
    "- Tổng các phần tử trong ma trận.\n",
    "- Tổng từng hàng của ma trận.\n",
    "- Tổng từng cột của ma trận\n",
    "\n",
    "<!-- ```python\n",
    "A = [[1, 2, 3], [4, 5, 6]]\n",
    "# 1\n",
    "s = 0\n",
    "for i in range(len(matrix)):\n",
    "    for j in range(len(matrix[i])):\n",
    "        s += matrix[i][j]\n",
    "print(s)\n",
    "# 2\n",
    "for i in range(len(matrix)):\n",
    "    s=0\n",
    "    for j in range(len(matrix[i])):\n",
    "        s += matrix[i][j]\n",
    "    print(s)\n",
    "# 3\n",
    "for i in range(len(matrix[0])):\n",
    "    s = 0\n",
    "    for j in range(len(matrix)):\n",
    "        s += matrix[j][i]\n",
    "    print(s)\n",
    "``` -->"
   ]
  },
  {
   "cell_type": "code",
   "execution_count": null,
   "metadata": {},
   "outputs": [],
   "source": []
  }
 ],
 "metadata": {
  "kernelspec": {
   "display_name": "venv",
   "language": "python",
   "name": "python3"
  },
  "language_info": {
   "codemirror_mode": {
    "name": "ipython",
    "version": 3
   },
   "file_extension": ".py",
   "mimetype": "text/x-python",
   "name": "python",
   "nbconvert_exporter": "python",
   "pygments_lexer": "ipython3",
   "version": "3.11.6"
  }
 },
 "nbformat": 4,
 "nbformat_minor": 2
}
